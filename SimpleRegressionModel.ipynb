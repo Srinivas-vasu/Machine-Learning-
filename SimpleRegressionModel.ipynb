{
 "cells": [
  {
   "cell_type": "markdown",
   "metadata": {
    "id": "jJRVnzl_oP9O"
   },
   "source": [
    "# **MODEL1**"
   ]
  },
  {
   "cell_type": "markdown",
   "metadata": {
    "id": "70CFBUPIU8Bs"
   },
   "source": [
    " **Importing Libraries**"
   ]
  },
  {
   "cell_type": "code",
   "execution_count": 228,
   "metadata": {
    "id": "kSt8PBA6L163"
   },
   "outputs": [],
   "source": [
    "import numpy as np\n",
    "import pandas as pd\n",
    "import matplotlib.pyplot as plt\n"
   ]
  },
  {
   "cell_type": "markdown",
   "metadata": {
    "id": "odYcil0iVHD7"
   },
   "source": [
    "**Import dataset**"
   ]
  },
  {
   "cell_type": "code",
   "execution_count": 229,
   "metadata": {
    "id": "ZBkeZK4_MFxU"
   },
   "outputs": [],
   "source": [
    "data = pd.read_csv('monet.csv')"
   ]
  },
  {
   "cell_type": "markdown",
   "metadata": {
    "id": "MdbANZyruksu"
   },
   "source": [
    " **Splitting data into x and y**\n",
    "\n",
    "\n"
   ]
  },
  {
   "cell_type": "code",
   "execution_count": 230,
   "metadata": {
    "id": "xLbKCNz3METX"
   },
   "outputs": [],
   "source": [
    "x = data[['WIDTH']]\n",
    "y= data.PRICE"
   ]
  },
  {
   "cell_type": "markdown",
   "metadata": {
    "id": "Bttx_Z4jVMFM"
   },
   "source": [
    "**Splitting the dataset into traning set and testing set**"
   ]
  },
  {
   "cell_type": "code",
   "execution_count": 231,
   "metadata": {
    "id": "_lnobXYKNof7"
   },
   "outputs": [],
   "source": [
    "from sklearn.model_selection import train_test_split\n",
    "x_train,x_test,y_train,y_test = train_test_split(x,y,test_size=0.2)"
   ]
  },
  {
   "cell_type": "markdown",
   "metadata": {
    "id": "qAJH8DADVY6N"
   },
   "source": [
    " **Simple Regression model**\n",
    "\n",
    "\n",
    "\n",
    "\n"
   ]
  },
  {
   "cell_type": "code",
   "execution_count": 232,
   "metadata": {
    "id": "gkbRemFCOlXV"
   },
   "outputs": [],
   "source": [
    "from sklearn.linear_model import LinearRegression\n",
    "\n",
    "lr=LinearRegression().fit(x_train,y_train)\n"
   ]
  },
  {
   "cell_type": "markdown",
   "metadata": {
    "id": "68eaNRrKaSEk"
   },
   "source": [
    "**Predicting Test Results**\n",
    "\n"
   ]
  },
  {
   "cell_type": "code",
   "execution_count": 233,
   "metadata": {
    "colab": {
     "base_uri": "https://localhost:8080/"
    },
    "id": "67Gn7LhBRzHk",
    "outputId": "b9be981c-0a96-4e2f-8d5a-c5cde8c00517"
   },
   "outputs": [
    {
     "data": {
      "text/plain": [
       "array([ 3.73160664,  2.69797794,  0.64487983,  3.73160664,  3.78824383,\n",
       "        3.12275686,  3.12275686,  0.71567632,  3.77408453,  3.12275686,\n",
       "        3.06611967,  3.16523475,  2.66965934,  2.23072113,  3.13691616,\n",
       "        3.61833226,  3.16523475,  2.66965934, -0.33211168,  6.97408572,\n",
       "        1.63603064,  3.90151821,  3.73160664,  3.77408453,  9.74930799,\n",
       "        2.66965934,  3.12275686,  2.66965934,  3.67496945,  2.42895129,\n",
       "        3.06611967,  4.18470415,  2.23072113,  2.69797794,  4.18470415,\n",
       "        0.24841951,  3.12275686,  2.23072113,  1.50859697,  4.18470415,\n",
       "        3.12275686,  3.74576594,  3.73160664,  3.64665086,  4.21302275,\n",
       "        3.75992524,  3.77408453,  2.25903972,  1.39532259,  3.15107545,\n",
       "        2.66965934,  3.74576594,  6.97408572,  2.72629653,  4.18470415,\n",
       "        0.50328686,  3.03780107,  3.13691616,  3.09443826,  3.13691616,\n",
       "        3.06611967,  2.75461513,  3.61833226,  9.74930799,  3.73160664,\n",
       "        3.73160664,  4.19886345,  4.18470415,  4.18470415,  2.65550005,\n",
       "        2.28735832,  4.18470415,  3.56169507,  3.12275686,  2.69797794,\n",
       "        3.12275686,  3.13691616,  3.56169507,  0.67319843,  3.74576594,\n",
       "        3.57585437,  2.03249097,  0.67319843,  2.28735832,  2.01833167,\n",
       "        2.17408394])"
      ]
     },
     "execution_count": 233,
     "metadata": {},
     "output_type": "execute_result"
    }
   ],
   "source": [
    "y_pred=lr.predict(x_test)\n",
    "y_pred"
   ]
  },
  {
   "cell_type": "markdown",
   "metadata": {
    "id": "THwWFWQHaCAb"
   },
   "source": [
    "**Estimate of Model**"
   ]
  },
  {
   "cell_type": "code",
   "execution_count": 234,
   "metadata": {
    "colab": {
     "base_uri": "https://localhost:8080/"
    },
    "id": "hX5wH2ogaHKH",
    "outputId": "473258c1-aeb6-4010-bf92-4a82ff9fe897"
   },
   "outputs": [
    {
     "name": "stdout",
     "output_type": "stream",
     "text": [
      "Mean Square error: 11.393010061844329\n",
      "Coefficient value: [0.14159297]\n",
      "Intercept: -1.3940589751712524\n",
      "Rsquare: 18.0908261623285 %\n"
     ]
    }
   ],
   "source": [
    "from sklearn.metrics import mean_squared_error\n",
    "mse=mean_squared_error(y_test,y_pred)\n",
    "print(\"Mean Square error:\",mse)\n",
    "print('Coefficient value:', lr.coef_)\n",
    "print('Intercept:', lr.intercept_)\n",
    "rsquare=lr.score(x_test,y_test)\n",
    "print(\"Rsquare:\",rsquare*100,'%')"
   ]
  },
  {
   "cell_type": "markdown",
   "metadata": {
    "id": "BtyKg2bfVg4i"
   },
   "source": [
    "**Plotting the graph for regression variables and regression line**"
   ]
  },
  {
   "cell_type": "code",
   "execution_count": 235,
   "metadata": {
    "colab": {
     "base_uri": "https://localhost:8080/",
     "height": 295
    },
    "id": "tImxWi40TXki",
    "outputId": "727d98c0-78c4-40c9-f1a7-246251fba707"
   },
   "outputs": [
    {
     "data": {
      "image/png": "[encoded data removed]",
      "text/plain": [
       "<Figure size 432x288 with 1 Axes>"
      ]
     },
     "metadata": {
      "needs_background": "light"
     },
     "output_type": "display_data"
    }
   ],
   "source": [
    "plt.scatter(x_test,y_test,color='red')\n",
    "plt.plot(x_train,lr.predict(x_train),color='blue')\n",
    "plt.title('Price a house based on width(training set)')\n",
    "plt.xlabel('width')\n",
    "plt.ylabel('Price')\n",
    "plt.show()"
   ]
  },
  {
   "cell_type": "markdown",
   "metadata": {
    "id": "R7H0SThzoW3C"
   },
   "source": [
    "# **MODEL 2**"
   ]
  },
  {
   "cell_type": "markdown",
   "metadata": {
    "id": "D7MkHtghpA2O"
   },
   "source": [
    " **Combining 'height' and 'width' as 'Size'**\n",
    "\n",
    "\n"
   ]
  },
  {
   "cell_type": "code",
   "execution_count": 236,
   "metadata": {
    "id": "G58Ki6FVpehx"
   },
   "outputs": [],
   "source": [
    "data['Size'] = data.HEIGHT*data.WIDTH"
   ]
  },
  {
   "cell_type": "markdown",
   "metadata": {
    "id": "16WpNV0UvJ7s"
   },
   "source": [
    "**Splitting data into x2 and y2**"
   ]
  },
  {
   "cell_type": "code",
   "execution_count": 237,
   "metadata": {
    "id": "9K7pNmGKpnHg"
   },
   "outputs": [],
   "source": [
    "x2 = data[['Size']]\n",
    "y2 = data.PRICE"
   ]
  },
  {
   "cell_type": "markdown",
   "metadata": {
    "id": "v6jBt4FGvSKP"
   },
   "source": [
    " **Splitting the dataset into traning set and testing set**"
   ]
  },
  {
   "cell_type": "code",
   "execution_count": 238,
   "metadata": {
    "id": "ClzRLZ52pqcJ"
   },
   "outputs": [],
   "source": [
    "from sklearn.model_selection import train_test_split\n",
    "x2_train,x2_test,y2_train,y2_test = train_test_split(x2,y2,test_size=0.2)"
   ]
  },
  {
   "cell_type": "markdown",
   "metadata": {
    "id": "9GsgVAo5veBb"
   },
   "source": [
    "**Simple Regression model**"
   ]
  },
  {
   "cell_type": "code",
   "execution_count": 239,
   "metadata": {
    "id": "pXDbHPl6pwCE"
   },
   "outputs": [],
   "source": [
    "from sklearn.linear_model import LinearRegression\n",
    "lr2=LinearRegression().fit(x2_train,y2_train)"
   ]
  },
  {
   "cell_type": "markdown",
   "metadata": {
    "id": "9FL-JIN5blKe"
   },
   "source": [
    "**Predicting Test Results**\n",
    "\n"
   ]
  },
  {
   "cell_type": "code",
   "execution_count": 240,
   "metadata": {
    "colab": {
     "base_uri": "https://localhost:8080/"
    },
    "id": "ekUl67YDpzZ2",
    "outputId": "1450eccb-9c69-4290-87ed-9a804a2cac1d"
   },
   "outputs": [
    {
     "data": {
      "text/plain": [
       "array([ 1.49381119,  3.10598213,  2.38920669,  2.6928835 ,  2.55530515,\n",
       "        3.3610043 ,  2.69474697,  4.61898032,  3.10598213,  2.5053779 ,\n",
       "        5.47940174,  3.75180952,  2.58712043,  2.77255804,  1.8842528 ,\n",
       "        3.29214695,  2.5606683 ,  3.3610043 ,  2.70892749,  2.23915221,\n",
       "        1.24931079,  3.93631539,  2.70892749,  4.52776138,  2.67688496,\n",
       "        2.72347161,  3.11761744,  3.10598213,  2.09234744,  2.38920669,\n",
       "        3.29921449,  2.09534716,  2.20601887,  1.49381119,  3.70076872,\n",
       "        2.88204804,  2.85582316,  3.87245759, 13.6802664 ,  3.31421312,\n",
       "        3.87927515,  2.41529521,  2.53269358,  3.71972154,  3.91218123,\n",
       "        1.49026606,  3.40545478,  3.10355054,  2.41804496,  2.71426791,\n",
       "        3.90672719,  3.93631539,  2.53921571,  2.53921571,  3.3610043 ,\n",
       "        2.23915221,  3.36752643,  2.40225095,  3.3610043 , 11.56986823,\n",
       "        3.10598213,  3.12243518,  2.8427789 ,  4.34868682,  2.55378257,\n",
       "        2.74344706,  3.9832202 ,  3.0326252 ,  1.91309108,  3.10598213,\n",
       "        3.43699736,  2.26055935,  3.87927515,  1.8002832 ,  3.40545478,\n",
       "        3.30378225,  2.10784602,  3.14179705,  2.73424336,  2.0651681 ,\n",
       "        3.40545478,  3.3610043 ,  2.7215627 ,  2.56307717,  2.87184443,\n",
       "        3.33977896])"
      ]
     },
     "execution_count": 240,
     "metadata": {},
     "output_type": "execute_result"
    }
   ],
   "source": [
    "y_pred2 = lr2.predict(x2_test)\n",
    "y_pred2"
   ]
  },
  {
   "cell_type": "markdown",
   "metadata": {
    "id": "TosNb1_0vj0p"
   },
   "source": [
    "**Estimate of Model**"
   ]
  },
  {
   "cell_type": "code",
   "execution_count": 241,
   "metadata": {
    "colab": {
     "base_uri": "https://localhost:8080/"
    },
    "id": "hR8e1-v2p1sd",
    "outputId": "d8f49e70-9c7f-431b-c4b2-29e840425013"
   },
   "outputs": [
    {
     "name": "stdout",
     "output_type": "stream",
     "text": [
      "Mean Square Error: 10.395411843024442\n",
      "Coefficient value: [0.00227252]\n",
      "Intercept: 0.9999926541992643\n",
      "RSquare: 16.393819582206426 %\n"
     ]
    }
   ],
   "source": [
    "from sklearn.metrics import mean_squared_error\n",
    "mse2=mean_squared_error(y2_test,y_pred2)\n",
    "print(\"Mean Square Error:\",mse2)\n",
    "print('Coefficient value:', lr2.coef_)\n",
    "print('Intercept:', lr2.intercept_)\n",
    "rsquare2=lr2.score(x2_test,y2_test)\n",
    "print(\"RSquare:\",rsquare2*100,'%')"
   ]
  },
  {
   "cell_type": "markdown",
   "metadata": {
    "id": "sGoJ1CHqvquP"
   },
   "source": [
    "**Plotting the graph for regression variables and regression line**"
   ]
  },
  {
   "cell_type": "code",
   "execution_count": 242,
   "metadata": {
    "colab": {
     "base_uri": "https://localhost:8080/",
     "height": 313
    },
    "id": "yStZvuhdqFY2",
    "outputId": "2f919938-d312-438f-cb26-41e021e3704a"
   },
   "outputs": [
    {
     "data": {
      "text/plain": [
       "<function matplotlib.pyplot.show(*args, **kw)>"
      ]
     },
     "execution_count": 242,
     "metadata": {},
     "output_type": "execute_result"
    },
    {
     "data": {
      "image/png": "[encoded data removed]",
      "text/plain": [
       "<Figure size 432x288 with 1 Axes>"
      ]
     },
     "metadata": {
      "needs_background": "light"
     },
     "output_type": "display_data"
    }
   ],
   "source": [
    "plt.scatter(x2_test,y2_test,color='red')\n",
    "plt.plot(x2_train,lr2.predict(x2_train),color='blue')\n",
    "plt.title('Price of a house based on size(Training set)')\n",
    "plt.xlabel('Size')\n",
    "plt.ylabel('price')\n",
    "plt.show"
   ]
  },
  {
   "cell_type": "markdown",
   "metadata": {
    "id": "Gy3fOX65sGQd"
   },
   "source": [
    "## **Multivariate Regression Model**"
   ]
  },
  {
   "cell_type": "markdown",
   "metadata": {
    "id": "3KT9cWtPxWKY"
   },
   "source": [
    "**Splitting data into x3 and y3**"
   ]
  },
  {
   "cell_type": "code",
   "execution_count": 246,
   "metadata": {
    "id": "IIPDU6PRrXu0"
   },
   "outputs": [],
   "source": [
    "x3=data.drop(axis=1,columns='PRICE')\n",
    "y3=data.PRICE\n",
    "\n"
   ]
  },
  {
   "cell_type": "markdown",
   "metadata": {
    "id": "ULc7VOlixc5L"
   },
   "source": [
    " **Splitting the dataset into traning set and testing set**"
   ]
  },
  {
   "cell_type": "code",
   "execution_count": 247,
   "metadata": {
    "id": "J0csYOspRdJd"
   },
   "outputs": [],
   "source": [
    "from sklearn.model_selection import train_test_split\n",
    "x3_train,x3_test,y3_train,y3_test = train_test_split(x3,y3,test_size=0.2,random_state=3)"
   ]
  },
  {
   "cell_type": "markdown",
   "metadata": {
    "id": "ylS7P0Ucxj-X"
   },
   "source": [
    "**Regression Model**"
   ]
  },
  {
   "cell_type": "code",
   "execution_count": 248,
   "metadata": {
    "id": "5OVjSTJgd64w"
   },
   "outputs": [],
   "source": [
    "from sklearn.linear_model import LinearRegression\n",
    "lr3=LinearRegression().fit(x3_train,y3_train)"
   ]
  },
  {
   "cell_type": "markdown",
   "metadata": {
    "id": "4rEwU_3Wbnef"
   },
   "source": [
    "**Predicting Test Results**\n",
    "\n"
   ]
  },
  {
   "cell_type": "code",
   "execution_count": 249,
   "metadata": {
    "colab": {
     "base_uri": "https://localhost:8080/"
    },
    "id": "SqvNwjmfd_OV",
    "outputId": "70c5c9c1-0046-4dc6-89e6-2c494cf63911"
   },
   "outputs": [
    {
     "data": {
      "text/plain": [
       "array([-0.86737234, -2.69619421,  2.66640101,  4.41599906,  3.70450793,\n",
       "        1.05495535,  7.05170622,  4.43686206,  2.50100078,  4.71082117,\n",
       "        3.74889987,  4.83492993,  3.93577843,  3.91645605,  1.98847896,\n",
       "        2.5224071 ,  3.2764674 , -1.42208022,  3.60653257,  1.76049004,\n",
       "        3.9254027 ,  2.91066014,  4.66361991,  2.41340558,  2.39262216,\n",
       "        3.41771757,  1.06500762,  2.73254095,  5.00158532,  3.19628423,\n",
       "        2.43221023,  3.88875414,  5.18699627,  2.16985498,  3.54272608,\n",
       "        3.35375132,  5.79370435,  2.48861943, -0.05481253,  4.29997825,\n",
       "       -0.52956854,  2.83134129,  3.42034958,  4.64837268,  4.49405932,\n",
       "        2.31367124,  2.35645843,  2.05775551,  3.9078597 , -0.03090884,\n",
       "        6.58447251, -2.16604625,  1.90414455,  3.10946186,  4.15981835,\n",
       "        4.27925738,  2.70975771,  2.3110455 ,  2.85394404,  7.37921537,\n",
       "        1.12673339,  5.1517145 ,  1.07553764,  2.57030206,  3.08678112,\n",
       "        2.70975771,  4.41599906,  3.32667899,  4.15099439,  4.48295313,\n",
       "        1.9587493 ,  3.6661678 ,  1.57537437,  2.36113514,  4.24793148,\n",
       "        2.61546039,  4.23034656,  4.03172876,  3.21345256,  1.15429753,\n",
       "        2.83793021, 11.19422178,  5.19242928,  1.84654856,  2.597876  ,\n",
       "        0.66296228])"
      ]
     },
     "execution_count": 249,
     "metadata": {},
     "output_type": "execute_result"
    }
   ],
   "source": [
    "y3_pred = lr3.predict(x3_test)\n",
    "y3_pred"
   ]
  },
  {
   "cell_type": "markdown",
   "metadata": {
    "id": "cn0KOBAix48O"
   },
   "source": [
    "**Estimate Model**"
   ]
  },
  {
   "cell_type": "code",
   "execution_count": 250,
   "metadata": {
    "colab": {
     "base_uri": "https://localhost:8080/"
    },
    "id": "pkCwMkMteHLd",
    "outputId": "ab53c2b4-1abb-4bee-d4f8-130e3dc28f2c"
   },
   "outputs": [
    {
     "name": "stdout",
     "output_type": "stream",
     "text": [
      "Mean Squared error: 13.704916130067248\n",
      "Coefficient value: [ 1.36154136e-01  1.38119878e-01  2.22080303e+00  1.57722281e-03\n",
      "  5.40120487e-01 -9.18420513e-04]\n",
      "Intercept: -7.216598796039735\n",
      "RSquare : 20.503354771324467 %\n"
     ]
    }
   ],
   "source": [
    "from sklearn.metrics import mean_squared_error\n",
    "mse3=mean_squared_error(y3_test,y3_pred)\n",
    "print(\"Mean Squared error:\",mse3)\n",
    "print('Coefficient value:', lr3.coef_)\n",
    "print('Intercept:', lr3.intercept_)\n",
    "rsquare3=lr3.score(x3_test,y3_test)\n",
    "print(\"RSquare :\",rsquare3*100,'%')"
   ]
  },
  {
   "cell_type": "markdown",
   "metadata": {
    "id": "oI5RqmGZyCHD"
   },
   "source": [
    "**Plotting the Regression Variables**"
   ]
  },
  {
   "cell_type": "code",
   "execution_count": 251,
   "metadata": {
    "colab": {
     "base_uri": "https://localhost:8080/",
     "height": 265
    },
    "id": "dmjlKuaYeMIt",
    "outputId": "2723aecd-4d3e-4fc2-f829-7d4077ea6745"
   },
   "outputs": [
    {
     "data": {
      "image/png": "[encoded data removed]",
      "text/plain": [
       "<Figure size 432x288 with 1 Axes>"
      ]
     },
     "metadata": {
      "needs_background": "light"
     },
     "output_type": "display_data"
    }
   ],
   "source": [
    "plt.scatter(y3_test,y3_pred)\n",
    "plt.show()"
   ]
  }
 ],
 "metadata": {
  "colab": {
   "collapsed_sections": [],
   "provenance": []
  },
  "kernelspec": {
   "display_name": "Python 3 (ipykernel)",
   "language": "python",
   "name": "python3"
  },
  "language_info": {
   "codemirror_mode": {
    "name": "ipython",
    "version": 3
   },
   "file_extension": ".py",
   "mimetype": "text/x-python",
   "name": "python",
   "nbconvert_exporter": "python",
   "pygments_lexer": "ipython3",
   "version": "3.9.13"
  }
 },
 "nbformat": 4,
 "nbformat_minor": 1
}
